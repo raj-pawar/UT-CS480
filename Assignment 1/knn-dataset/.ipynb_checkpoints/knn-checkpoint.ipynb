{
 "cells": [
  {
   "cell_type": "code",
   "execution_count": 1,
   "metadata": {},
   "outputs": [],
   "source": [
    "import numpy as np\n",
    "import glob\n",
    "import pandas as pd\n",
    "import stats\n",
    "from sklearn.metrics import accuracy_score\n",
    "from sklearn.neighbors import KNeighborsClassifier\n",
    "from sklearn.model_selection import cross_validate\n",
    "from sklearn.model_selection import GridSearchCV\n",
    "import random"
   ]
  },
  {
   "cell_type": "code",
   "execution_count": 2,
   "metadata": {},
   "outputs": [],
   "source": [
    "filenames = glob.glob(\"*.csv\")\n",
    "train_data_files = []\n",
    "train_label_files = []\n",
    "\n",
    "for filename in filenames:\n",
    "    if('trainData' in filename):\n",
    "        train_data_files.append(filename)\n",
    "    if('trainLabels' in filename):\n",
    "        train_label_files.append(filename)"
   ]
  },
  {
   "cell_type": "code",
   "execution_count": 3,
   "metadata": {},
   "outputs": [
    {
     "name": "stdout",
     "output_type": "stream",
     "text": [
      "['trainData1.csv', 'trainData10.csv', 'trainData2.csv', 'trainData3.csv', 'trainData4.csv', 'trainData5.csv', 'trainData6.csv', 'trainData7.csv', 'trainData8.csv', 'trainData9.csv']\n",
      "['trainLabels1.csv', 'trainLabels10.csv', 'trainLabels2.csv', 'trainLabels3.csv', 'trainLabels4.csv', 'trainLabels5.csv', 'trainLabels6.csv', 'trainLabels7.csv', 'trainLabels8.csv', 'trainLabels9.csv']\n"
     ]
    }
   ],
   "source": [
    "train_data_files = sorted(train_data_files)\n",
    "train_label_files = sorted(train_label_files)\n",
    "print(train_data_files)\n",
    "print(train_label_files)"
   ]
  },
  {
   "cell_type": "code",
   "execution_count": 4,
   "metadata": {
    "scrolled": true
   },
   "outputs": [
    {
     "name": "stdout",
     "output_type": "stream",
     "text": [
      "Reading trainData1.csv\n",
      "Reading trainLabels1.csv\n",
      "Reading trainData10.csv\n",
      "Reading trainLabels10.csv\n",
      "Reading trainData2.csv\n",
      "Reading trainLabels2.csv\n",
      "Reading trainData3.csv\n",
      "Reading trainLabels3.csv\n",
      "Reading trainData4.csv\n",
      "Reading trainLabels4.csv\n",
      "Reading trainData5.csv\n",
      "Reading trainLabels5.csv\n",
      "Reading trainData6.csv\n",
      "Reading trainLabels6.csv\n",
      "Reading trainData7.csv\n",
      "Reading trainLabels7.csv\n",
      "Reading trainData8.csv\n",
      "Reading trainLabels8.csv\n",
      "Reading trainData9.csv\n",
      "Reading trainLabels9.csv\n"
     ]
    }
   ],
   "source": [
    "train_data_folds = []\n",
    "train_labels_folds = []\n",
    "\n",
    "for i in range(len(train_data_files)):\n",
    "    print('Reading ' + train_data_files[i])\n",
    "    train_data_folds.append(np.genfromtxt(train_data_files[i], delimiter=','))\n",
    "    print('Reading ' + train_label_files[i])\n",
    "    train_labels_folds.append(np.genfromtxt(train_label_files[i], delimiter=','))"
   ]
  },
  {
   "cell_type": "code",
   "execution_count": 5,
   "metadata": {},
   "outputs": [],
   "source": [
    "test_data = np.genfromtxt('testData.csv', delimiter=',')\n",
    "test_labels = np.genfromtxt('testLabels.csv', delimiter=',')"
   ]
  },
  {
   "cell_type": "code",
   "execution_count": 6,
   "metadata": {},
   "outputs": [],
   "source": [
    "def cross_validation(train_data_list, train_labels_list, k, k_fold):\n",
    "    val_data = train_data_list[k_fold]\n",
    "    val_labels = train_labels_list[k_fold]\n",
    "    train_x = train_data_list[:k_fold] + train_data_list[k_fold+1:]\n",
    "    train_y = train_labels_list[:k_fold] + train_labels_list[k_fold+1:]\n",
    "    train_data = np.concatenate(train_x, axis = 0)\n",
    "    train_labels = np.concatenate(train_y, axis = 0)\n",
    "    \n",
    "    preds = []\n",
    "    for i,row in enumerate(val_data):\n",
    "        #print(i)\n",
    "        instance = row.reshape(1,-1)\n",
    "        idx = np.argpartition(np.sqrt(np.sum((train_data-instance)**2,axis = 1)), k)\n",
    "        #print(k)\n",
    "        #print(idx)\n",
    "        knn_labels = train_labels[idx[:k]]\n",
    "        try:\n",
    "            pred = stats.mode(knn_labels)\n",
    "        except:\n",
    "            pred = random.choice(knn_labels)\n",
    "        preds.append(pred)\n",
    "    \n",
    "    return(accuracy_score(val_labels,preds))"
   ]
  },
  {
   "cell_type": "code",
   "execution_count": 7,
   "metadata": {},
   "outputs": [],
   "source": [
    "def evaluate(train_X, train_y, test_X, test_y,k):\n",
    "    preds = []\n",
    "    for i,row in enumerate(test_X):\n",
    "        instance = row.reshape(1,-1)\n",
    "        idx = np.argpartition(np.sqrt(np.sum((train_X-instance)**2,axis = 1)), k)\n",
    "        knn_labels = train_y[idx[:k]]\n",
    "        try:\n",
    "            pred = stats.mode(knn_labels)\n",
    "        except:\n",
    "            pred = random.choice(knn_labels)\n",
    "        preds.append(pred)\n",
    "    \n",
    "    return(accuracy_score(test_y,preds))"
   ]
  },
  {
   "cell_type": "code",
   "execution_count": 8,
   "metadata": {},
   "outputs": [
    {
     "name": "stdout",
     "output_type": "stream",
     "text": [
      "19\n"
     ]
    }
   ],
   "source": [
    "k_max = 30\n",
    "k_folds = 10\n",
    "accuracy_list = []\n",
    "for k in range(k_max):\n",
    "    accuracy_k_fold_list = []\n",
    "    for k_fold in range(k_folds): \n",
    "        accuracy_k_fold = cross_validation(train_data_folds, train_labels_folds, k+1, k_fold)\n",
    "        accuracy_k_fold_list.append(accuracy_k_fold)\n",
    "    accuracy_k = np.mean(accuracy_k_fold_list)\n",
    "    accuracy_list.append(accuracy_k)\n",
    "\n",
    "k_optimized = accuracy_list.index(max(accuracy_list)) + 1\n",
    "print(k_optimized)"
   ]
  },
  {
   "cell_type": "code",
   "execution_count": 9,
   "metadata": {},
   "outputs": [
    {
     "data": {
      "text/plain": [
       "0.8109999999999999"
      ]
     },
     "execution_count": 9,
     "metadata": {},
     "output_type": "execute_result"
    }
   ],
   "source": [
    "accuracy_list[k_optimized]"
   ]
  },
  {
   "cell_type": "code",
   "execution_count": 10,
   "metadata": {},
   "outputs": [],
   "source": [
    "final_train_x = np.concatenate(train_data_folds, axis = 0)\n",
    "final_train_y = np.concatenate(train_labels_folds, axis = 0)"
   ]
  },
  {
   "cell_type": "code",
   "execution_count": 11,
   "metadata": {},
   "outputs": [
    {
     "data": {
      "text/plain": [
       "0.7272727272727273"
      ]
     },
     "execution_count": 11,
     "metadata": {},
     "output_type": "execute_result"
    }
   ],
   "source": [
    "evaluate(final_train_x, final_train_y, test_data, test_labels, k_optimized)"
   ]
  },
  {
   "cell_type": "code",
   "execution_count": null,
   "metadata": {},
   "outputs": [],
   "source": []
  },
  {
   "cell_type": "code",
   "execution_count": null,
   "metadata": {},
   "outputs": [],
   "source": []
  },
  {
   "cell_type": "code",
   "execution_count": 12,
   "metadata": {},
   "outputs": [],
   "source": [
    "neigh = KNeighborsClassifier(n_neighbors=k_optimized)\n",
    "cv_results = cross_validate(neigh, final_train_x, final_train_y, cv =10)"
   ]
  },
  {
   "cell_type": "code",
   "execution_count": 13,
   "metadata": {},
   "outputs": [
    {
     "data": {
      "text/plain": [
       "0.8099999999999999"
      ]
     },
     "execution_count": 13,
     "metadata": {},
     "output_type": "execute_result"
    }
   ],
   "source": [
    "np.mean(cv_results['test_score'])"
   ]
  },
  {
   "cell_type": "code",
   "execution_count": 14,
   "metadata": {},
   "outputs": [
    {
     "data": {
      "text/plain": [
       "0.7272727272727273"
      ]
     },
     "execution_count": 14,
     "metadata": {},
     "output_type": "execute_result"
    }
   ],
   "source": [
    "neigh.fit(final_train_x,final_train_y)\n",
    "sk_pred = neigh.predict(test_data)\n",
    "accuracy_score(test_labels,sk_pred)"
   ]
  },
  {
   "cell_type": "code",
   "execution_count": 15,
   "metadata": {},
   "outputs": [
    {
     "data": {
      "text/plain": [
       "{'n_neighbors': 29}"
      ]
     },
     "execution_count": 15,
     "metadata": {},
     "output_type": "execute_result"
    }
   ],
   "source": [
    "parameters = {'n_neighbors':list(np.arange(1,31))}\n",
    "neigh = KNeighborsClassifier()\n",
    "clf = GridSearchCV(neigh, parameters)\n",
    "clf.fit(final_train_x, final_train_y)\n",
    "\n",
    "clf.best_params_"
   ]
  },
  {
   "cell_type": "code",
   "execution_count": 16,
   "metadata": {},
   "outputs": [
    {
     "data": {
      "text/plain": [
       "0.7636363636363637"
      ]
     },
     "execution_count": 16,
     "metadata": {},
     "output_type": "execute_result"
    }
   ],
   "source": [
    "neigh = KNeighborsClassifier(n_neighbors=29)\n",
    "neigh.fit(final_train_x,final_train_y)\n",
    "sk_pred = neigh.predict(test_data)\n",
    "accuracy_score(test_labels, sk_pred)"
   ]
  },
  {
   "cell_type": "code",
   "execution_count": 17,
   "metadata": {},
   "outputs": [
    {
     "data": {
      "text/plain": [
       "0.7636363636363637"
      ]
     },
     "execution_count": 17,
     "metadata": {},
     "output_type": "execute_result"
    }
   ],
   "source": [
    "evaluate(final_train_x, final_train_y, test_data, test_labels, 29)"
   ]
  },
  {
   "cell_type": "code",
   "execution_count": null,
   "metadata": {},
   "outputs": [],
   "source": []
  }
 ],
 "metadata": {
  "kernelspec": {
   "display_name": "Python 3",
   "language": "python",
   "name": "python3"
  },
  "language_info": {
   "codemirror_mode": {
    "name": "ipython",
    "version": 3
   },
   "file_extension": ".py",
   "mimetype": "text/x-python",
   "name": "python",
   "nbconvert_exporter": "python",
   "pygments_lexer": "ipython3",
   "version": "3.8.3"
  }
 },
 "nbformat": 4,
 "nbformat_minor": 4
}
